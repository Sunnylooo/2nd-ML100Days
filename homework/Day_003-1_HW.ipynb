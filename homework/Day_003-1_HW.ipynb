{
 "cells": [
  {
   "cell_type": "markdown",
   "metadata": {},
   "source": [
    "## Homework1"
   ]
  },
  {
   "cell_type": "code",
   "execution_count": 107,
   "metadata": {},
   "outputs": [],
   "source": [
    "import pandas as pd\n",
    "import numpy as np"
   ]
  },
  {
   "cell_type": "code",
   "execution_count": 108,
   "metadata": {},
   "outputs": [
    {
     "name": "stdout",
     "output_type": "stream",
     "text": [
      "Array1\n",
      "   country  population\n",
      "0  America   594808012\n",
      "1   Brazil   672251303\n",
      "2    Japan   931704655\n"
     ]
    }
   ],
   "source": [
    "#Define Array 1\n",
    "print('Array1')\n",
    "pp = np.random.randint(10**8,10**9,3)\n",
    "data = {'country':['America','Brazil','Japan'],\n",
    "       'population': pp}\n",
    "data1 = pd.DataFrame(data)\n",
    "print(data1)"
   ]
  },
  {
   "cell_type": "code",
   "execution_count": 109,
   "metadata": {},
   "outputs": [
    {
     "name": "stdout",
     "output_type": "stream",
     "text": [
      "Array2\n",
      "     country  population\n",
      "0     Taiwan   884802832\n",
      "1      Korea   790348278\n",
      "2  Australia   807396121\n"
     ]
    }
   ],
   "source": [
    "#Define Array 2 \n",
    "print('Array2')\n",
    "pp1 = np.random.randint(10**8,10**9,3)\n",
    "countries = ['Taiwan','Korea','Australia']\n",
    "populations = pp1\n",
    "list_labels = ['country','population']\n",
    "list_cols = [countries,populations]\n",
    "zipped = list(zip(list_labels, list_cols))\n",
    "data2 = pd.DataFrame(dict(zipped))\n",
    "print(data2)"
   ]
  },
  {
   "cell_type": "code",
   "execution_count": 110,
   "metadata": {
    "scrolled": true
   },
   "outputs": [
    {
     "name": "stdout",
     "output_type": "stream",
     "text": [
      "Test1\n",
      "The country with the largest population in Array1 is Japan\n",
      "Test2\n",
      "The country with the largest population in Array2 is Australia\n"
     ]
    }
   ],
   "source": [
    "#Take Maximum\n",
    "print('Test1')\n",
    "maxpp1 = data1['country'][data1['population'].idxmax()]\n",
    "print('The country with the largest population in Array1 is %s' %maxpp1)\n",
    "print('Test2')\n",
    "maxpp2 = data2['country'][data1['population'].idxmax()]\n",
    "print('The country with the largest population in Array2 is %s' %maxpp2)"
   ]
  },
  {
   "cell_type": "code",
   "execution_count": null,
   "metadata": {},
   "outputs": [],
   "source": []
  }
 ],
 "metadata": {
  "kernelspec": {
   "display_name": "Python 3",
   "language": "python",
   "name": "python3"
  },
  "language_info": {
   "codemirror_mode": {
    "name": "ipython",
    "version": 3
   },
   "file_extension": ".py",
   "mimetype": "text/x-python",
   "name": "python",
   "nbconvert_exporter": "python",
   "pygments_lexer": "ipython3",
   "version": "3.7.3"
  }
 },
 "nbformat": 4,
 "nbformat_minor": 2
}
